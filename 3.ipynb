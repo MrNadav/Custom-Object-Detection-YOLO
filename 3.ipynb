{
 "cells": [
  {
   "cell_type": "markdown",
   "metadata": {},
   "source": [
    "# **YOLOv4 Tiny Training on WSL (Windows Subsystem for Linux)**\n",
    "\n",
    "## Step 3 - Training on your system (GPU)"
   ]
  },
  {
   "cell_type": "markdown",
   "metadata": {},
   "source": [
    "steps will involve:\n",
    "1. Clone the darknet repository:\n",
    "2. Configure Makefile\n",
    "3. compile & Build darknet:\n",
    "4. Prepare YOLOv4 Tiny for training\n",
    "5. Training\n"
   ]
  },
  {
   "cell_type": "code",
   "execution_count": null,
   "metadata": {
    "vscode": {
     "languageId": "shellscript"
    }
   },
   "outputs": [],
   "source": [
    "git clone https://github.com/AlexeyAB/darknet\n",
    "cd darknet\n",
    "nano Makefile\n",
    "#change these parameters to train with your gpu\n",
    "GPU=1\n",
    "CUDNN=1\n",
    "OPENCV=1\n",
    "CUDNN_HALF=1\n",
    "LIBSO=1\n",
    "#save the file and build\n",
    "#if its not the first time you building the darkenet make sure you clean first:\n",
    "make clean\n",
    "#and then make:\n",
    "make\n",
    "\n"
   ]
  },
  {
   "cell_type": "markdown",
   "metadata": {},
   "source": [
    "### Prepare your files that are ready and copy them to train"
   ]
  },
  {
   "cell_type": "code",
   "execution_count": null,
   "metadata": {
    "vscode": {
     "languageId": "shellscript"
    }
   },
   "outputs": [],
   "source": [
    "unzip ../yolov4-tiny/obj.zip -d data/\n",
    "cp ../yolov4-tiny/yolov4-tiny-custom.cfg ./cfg\n",
    "cp ../yolov4-tiny/obj.names ./data\n",
    "cp ../yolov4-tiny/obj.data ./data\n",
    "cp ../yolov4-tiny/process.py .\n",
    "cp ../yolov4-tiny/yolov4-tiny.conv.29 .\n",
    "#check purposes\n",
    "python process.py"
   ]
  },
  {
   "cell_type": "markdown",
   "metadata": {},
   "source": [
    "### if needed Adjust configuration files in cfg/YOUR-MODEL and data/obj.data and obj.names.\n",
    "And then run for training"
   ]
  },
  {
   "cell_type": "code",
   "execution_count": null,
   "metadata": {
    "vscode": {
     "languageId": "shellscript"
    }
   },
   "outputs": [],
   "source": [
    "./darknet detector train data/obj.data cfg/yolov4-tiny-custom.cfg yolov4-tiny.conv.29 -dont_show\n",
    "#or with lower priority\n",
    "nice -n 10 ./darknet detector train data/obj.data cfg/yolov4-tiny-custom.cfg yolov4-tiny.conv.29 -dont_show\n"
   ]
  },
  {
   "cell_type": "markdown",
   "metadata": {},
   "source": [
    "# Troubleshooting Assistance\n",
    "\n",
    "### If you encounter any obstacles during the setup or training process, utilize various resources at your disposal to resolve the issues. Utilize the internet, ChatGPT, cloud platforms, and other relevant platforms to seek solutions to your problems.\n",
    "\n",
    "### It's important to acknowledge that this process may not be straightforward for everyone and could potentially be frustrating. However, it's designed to challenge and facilitate learning. Embrace the learning opportunities presented throughout this journey.\n",
    "\n",
    "### Remember, perseverance and resourcefulness are key attributes in overcoming challenges. Don't hesitate to seek assistance and explore different avenues to achieve your objectives. With determination and a proactive approach, you'll not only overcome obstacles but also gain valuable insights and skills along the way."
   ]
  },
  {
   "cell_type": "markdown",
   "metadata": {},
   "source": [
    "if you are willing to reset the WSL and start all over use this command in your CMD"
   ]
  },
  {
   "cell_type": "code",
   "execution_count": null,
   "metadata": {
    "vscode": {
     "languageId": "shellscript"
    }
   },
   "outputs": [],
   "source": [
    "wsl --unregister Ubuntu"
   ]
  },
  {
   "cell_type": "markdown",
   "metadata": {},
   "source": [
    "# By -GenGuard Security"
   ]
  }
 ],
 "metadata": {
  "language_info": {
   "name": "python"
  }
 },
 "nbformat": 4,
 "nbformat_minor": 2
}
