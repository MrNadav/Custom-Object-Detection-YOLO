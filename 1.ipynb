{
 "cells": [
  {
   "cell_type": "markdown",
   "metadata": {},
   "source": [
    "# **YOLOv4 Tiny Training on WSL (Windows Subsystem for Linux)**\n",
    "\n",
    "\n",
    "This guide outlines the steps to set up the environment and train YOLOv4 Tiny on Windows Subsystem for Linux (WSL).\n",
    "\n",
    "## Prerequisites\n",
    "\n",
    "Before proceeding, ensure you have the following installed:\n",
    "\n",
    "- Ubuntu 22.04 on Windows Subsystem for Linux (WSL)\n",
    "- NVIDIA GPU with CUDA support"
   ]
  },
  {
   "cell_type": "markdown",
   "metadata": {},
   "source": [
    "### First start with updating & upgrading and installing basic tools.\n",
    "copy the commands below to your terminal of WSL or any other linux distro"
   ]
  },
  {
   "cell_type": "code",
   "execution_count": null,
   "metadata": {
    "vscode": {
     "languageId": "shellscript"
    }
   },
   "outputs": [],
   "source": [
    "sudo apt update \n",
    "sudo apt update\n",
    "sudo apt install make pkg-config g++\n",
    "\n",
    "#optional:\n",
    "sudo apt install unzip\n",
    "sudo apt-get install nice\n"
   ]
  },
  {
   "cell_type": "markdown",
   "metadata": {},
   "source": [
    "### cuDNN && CUDA installation\n",
    "for the most recent  version you can go here and see the instructions:\n",
    "\n",
    "https://developer.nvidia.com/cuda-downloads?target_os=Linux&target_arch=x86_64&Distribution=WSL-Ubuntu&target_version=2.0&target_type=deb_local\n",
    "\n",
    "https://developer.nvidia.com/cudnn-downloads?target_os=Linux&target_arch=x86_64&Distribution=Ubuntu&target_version=22.04&target_type=deb_local"
   ]
  },
  {
   "cell_type": "code",
   "execution_count": null,
   "metadata": {
    "vscode": {
     "languageId": "shellscript"
    }
   },
   "outputs": [],
   "source": [
    "#cuDNN\n",
    "wget https://developer.download.nvidia.com/compute/cudnn/9.1.0/local_installers/cudnn-local-repo-ubuntu2204-9.1.0_1.0-1_amd64.deb\n",
    "sudo dpkg -i cudnn-local-repo-ubuntu2204-9.1.0_1.0-1_amd64.deb\n",
    "sudo cp /var/cudnn-local-repo-ubuntu2204-9.1.0/cudnn-*-keyring.gpg /usr/share/keyrings/\n",
    "sudo apt-get update\n",
    "sudo apt-get -y install cudnn\n",
    "\n",
    "#CUDA\n",
    "wget https://developer.download.nvidia.com/compute/cuda/repos/wsl-ubuntu/x86_64/cuda-wsl-ubuntu.pin\n",
    "sudo mv cuda-wsl-ubuntu.pin /etc/apt/preferences.d/cuda-repository-pin-600\n",
    "wget https://developer.download.nvidia.com/compute/cuda/12.4.1/local_installers/cuda-repo-wsl-ubuntu-12-4-local_12.4.1-1_amd64.deb\n",
    "sudo dpkg -i cuda-repo-wsl-ubuntu-12-4-local_12.4.1-1_amd64.deb\n",
    "sudo cp /var/cuda-repo-wsl-ubuntu-12-4-local/cuda-*-keyring.gpg /usr/share/keyrings/\n",
    "sudo apt-get update\n",
    "sudo apt-get -y install cuda-toolkit-12-4\n"
   ]
  },
  {
   "cell_type": "markdown",
   "metadata": {},
   "source": [
    "### Testing CUDA and cuDNN"
   ]
  },
  {
   "cell_type": "code",
   "execution_count": null,
   "metadata": {
    "vscode": {
     "languageId": "shellscript"
    }
   },
   "outputs": [],
   "source": [
    "nvcc --version\n",
    "cat /usr/local/cuda/version.txt\n",
    "\n",
    "\n",
    "#if any issues try one of this:\n",
    "export PATH=/usr/local/cuda/bin:$PATH\n",
    "export LD_LIBRARY_PATH=/usr/local/cuda/lib64:$LD_LIBRARY_PATH\n",
    "source ~/.bashrc or source ~/.bash_profile -- to make perement change\n",
    "\n",
    "#test again:\n",
    "nvcc --version\n",
    "echo $PATH\n",
    "/usr/local/cuda/bin/nvcc --version\n",
    "\n",
    "#or specify the path in the make file later in darkent dir that we will clone from git in the next notebook:\n",
    "NVCC=/usr/local/cuda/bin/nvcc"
   ]
  },
  {
   "cell_type": "markdown",
   "metadata": {},
   "source": [
    "# -By GenGuard Security"
   ]
  }
 ],
 "metadata": {
  "language_info": {
   "name": "python"
  }
 },
 "nbformat": 4,
 "nbformat_minor": 2
}
